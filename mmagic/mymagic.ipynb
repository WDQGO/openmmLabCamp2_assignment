{
 "cells": [
  {
   "cell_type": "code",
   "execution_count": 1,
   "id": "5dba6b61",
   "metadata": {},
   "outputs": [
    {
     "name": "stdout",
     "output_type": "stream",
     "text": [
      "Pytorch 版本 2.0.1+cu117\n",
      "CUDA 是否可用 True\n"
     ]
    }
   ],
   "source": [
    "# 检查 Pytorch\n",
    "import torch, torchvision\n",
    "print('Pytorch 版本', torch.__version__)\n",
    "print('CUDA 是否可用',torch.cuda.is_available())"
   ]
  },
  {
   "cell_type": "code",
   "execution_count": 2,
   "id": "ef7e86e0",
   "metadata": {},
   "outputs": [
    {
     "name": "stdout",
     "output_type": "stream",
     "text": [
      "MMCV版本 2.0.0\n",
      "CUDA版本 11.7\n",
      "编译器版本 MSVC 192829924\n"
     ]
    }
   ],
   "source": [
    "# 检查 mmcv\n",
    "import mmcv\n",
    "from mmcv.ops import get_compiling_cuda_version, get_compiler_version\n",
    "print('MMCV版本', mmcv.__version__)\n",
    "print('CUDA版本', get_compiling_cuda_version())\n",
    "print('编译器版本', get_compiler_version())"
   ]
  },
  {
   "cell_type": "code",
   "execution_count": 3,
   "id": "aa809c96",
   "metadata": {},
   "outputs": [
    {
     "name": "stdout",
     "output_type": "stream",
     "text": [
      "MMagic版本 1.0.1\n"
     ]
    }
   ],
   "source": [
    "# 检查 mmagic\n",
    "import mmagic\n",
    "print('MMagic版本', mmagic.__version__)"
   ]
  },
  {
   "cell_type": "code",
   "execution_count": 11,
   "id": "1c1a341d",
   "metadata": {},
   "outputs": [
    {
     "name": "stderr",
     "output_type": "stream",
     "text": [
      "Cannot initialize model with low cpu memory usage because `accelerate` was not found in the environment. Defaulting to `low_cpu_mem_usage=False`. It is strongly recommended to install `accelerate` for faster and less memory-intense model loading. You can do so with: \n",
      "```\n",
      "pip install accelerate\n",
      "```\n",
      ".\n"
     ]
    },
    {
     "name": "stdout",
     "output_type": "stream",
     "text": [
      "06/18 10:56:20 - mmengine - \u001b[4m\u001b[97mINFO\u001b[0m - Set model dtype to 'torch.float32'.\n"
     ]
    },
    {
     "name": "stderr",
     "output_type": "stream",
     "text": [
      "Cannot initialize model with low cpu memory usage because `accelerate` was not found in the environment. Defaulting to `low_cpu_mem_usage=False`. It is strongly recommended to install `accelerate` for faster and less memory-intense model loading. You can do so with: \n",
      "```\n",
      "pip install accelerate\n",
      "```\n",
      ".\n"
     ]
    },
    {
     "name": "stdout",
     "output_type": "stream",
     "text": [
      "06/18 10:56:35 - mmengine - \u001b[4m\u001b[97mINFO\u001b[0m - Set model dtype to 'torch.float32'.\n",
      "06/18 10:56:48 - mmengine - \u001b[4m\u001b[97mINFO\u001b[0m - Creating runwayml/stable-diffusion-v1-5 by 'HuggingFace'\n"
     ]
    },
    {
     "name": "stderr",
     "output_type": "stream",
     "text": [
      "Cannot initialize model with low cpu memory usage because `accelerate` was not found in the environment. Defaulting to `low_cpu_mem_usage=False`. It is strongly recommended to install `accelerate` for faster and less memory-intense model loading. You can do so with: \n",
      "```\n",
      "pip install accelerate\n",
      "```\n",
      ".\n"
     ]
    },
    {
     "name": "stdout",
     "output_type": "stream",
     "text": [
      "Do not support Xformers. Please install Xformers first. The program will run without Xformers.\n"
     ]
    },
    {
     "data": {
      "application/vnd.jupyter.widget-view+json": {
       "model_id": "82ec42d1ca04418eac47e6477846ed09",
       "version_major": 2,
       "version_minor": 0
      },
      "text/plain": [
       "Downloading (…)ch_model.safetensors:   0%|          | 0.00/1.45G [00:00<?, ?B/s]"
      ]
     },
     "metadata": {},
     "output_type": "display_data"
    },
    {
     "name": "stdout",
     "output_type": "stream",
     "text": [
      "06/18 11:00:50 - mmengine - \u001b[4m\u001b[97mINFO\u001b[0m - Set model dtype to 'torch.float32'.\n",
      "Do not support Xformers. Please install Xformers first. The program will run without Xformers.\n"
     ]
    }
   ],
   "source": [
    "import cv2\n",
    "import numpy as np\n",
    "import mmcv\n",
    "from mmengine import Config\n",
    "from PIL import Image\n",
    "\n",
    "from mmagic.registry import MODELS\n",
    "from mmagic.utils import register_all_modules\n",
    "\n",
    "register_all_modules()\n",
    "cfg = Config.fromfile(r'D:/ACpycharm/myProjeycs/mmagic-main/configs/controlnet/controlnet-canny.py')\n",
    "controlnet = MODELS.build(cfg.model).cuda()\n"
   ]
  },
  {
   "cell_type": "code",
   "execution_count": 12,
   "id": "ada6d5f9",
   "metadata": {},
   "outputs": [
    {
     "name": "stderr",
     "output_type": "stream",
     "text": [
      "D:\\ACanaconda\\condainstall\\envs\\mymmlab\\lib\\site-packages\\mmagic\\models\\archs\\wrapper.py:149: FutureWarning: Accessing config attribute `in_channels` directly via 'UNet2DConditionModel' object attribute is deprecated. Please access 'in_channels' over 'UNet2DConditionModel's config object instead, e.g. 'unet.config.in_channels'.\n",
      "  return getattr(self.model, name)\n",
      "100%|██████████████████████████████████████████| 20/20 [00:05<00:00,  3.81it/s]\n"
     ]
    }
   ],
   "source": [
    "control_url = './house.png'\n",
    "control_img = mmcv.imread(control_url)\n",
    "control = cv2.Canny(control_img, 100, 200)\n",
    "control = control[:, :, None]\n",
    "control = np.concatenate([control] * 3, axis=2)\n",
    "control = Image.fromarray(control)\n",
    "prompt = 'A modern minimalist style room.'\n",
    "output_dict = controlnet.infer(prompt, control=control)\n",
    "samples = output_dict['samples']\n",
    "for idx, sample in enumerate(samples):\n",
    "    sample.save(f'sample_{idx}.png')\n",
    "controls = output_dict['controls']\n",
    "for idx, control in enumerate(controls):\n",
    "    control.save(f'control_{idx}.png')"
   ]
  },
  {
   "cell_type": "code",
   "execution_count": 13,
   "id": "8d7ffd1c",
   "metadata": {},
   "outputs": [
    {
     "name": "stderr",
     "output_type": "stream",
     "text": [
      "D:\\ACanaconda\\condainstall\\envs\\mymmlab\\lib\\site-packages\\mmagic\\models\\archs\\wrapper.py:149: FutureWarning: Accessing config attribute `in_channels` directly via 'UNet2DConditionModel' object attribute is deprecated. Please access 'in_channels' over 'UNet2DConditionModel's config object instead, e.g. 'unet.config.in_channels'.\n",
      "  return getattr(self.model, name)\n",
      "100%|██████████████████████████████████████████| 20/20 [00:03<00:00,  5.02it/s]\n"
     ]
    }
   ],
   "source": [
    "control_url = './house.png'\n",
    "control_img = mmcv.imread(control_url)\n",
    "control = cv2.Canny(control_img, 100, 200)\n",
    "cv2.imwrite('./control_0.png', control)\n",
    "control = control[:, :, None]\n",
    "control = np.concatenate([control] * 3, axis=2)\n",
    "control = Image.fromarray(control)\n",
    "\n",
    "prompt = 'A Chinese style room'\n",
    "output_dict = controlnet.infer(prompt, control=control)\n",
    "samples = output_dict['samples']\n",
    "for idx, sample in enumerate(samples):\n",
    "    sample.save(f'sample_{idx}.png')\n",
    "controls = output_dict['controls']\n",
    "for idx, control in enumerate(controls):\n",
    "    control.save(f'control_{idx}.png')"
   ]
  },
  {
   "cell_type": "code",
   "execution_count": null,
   "id": "e836b7fc",
   "metadata": {},
   "outputs": [],
   "source": []
  }
 ],
 "metadata": {
  "kernelspec": {
   "display_name": "Python 3 (ipykernel)",
   "language": "python",
   "name": "python3"
  },
  "language_info": {
   "codemirror_mode": {
    "name": "ipython",
    "version": 3
   },
   "file_extension": ".py",
   "mimetype": "text/x-python",
   "name": "python",
   "nbconvert_exporter": "python",
   "pygments_lexer": "ipython3",
   "version": "3.9.16"
  }
 },
 "nbformat": 4,
 "nbformat_minor": 5
}
